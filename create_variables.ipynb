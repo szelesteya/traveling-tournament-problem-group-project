{
 "cells": [
  {
   "cell_type": "code",
   "id": "initial_id",
   "metadata": {
    "collapsed": true,
    "ExecuteTime": {
     "end_time": "2025-09-29T10:07:12.225019Z",
     "start_time": "2025-09-29T10:07:12.002916Z"
    }
   },
   "source": [
    "from lxml import etree\n",
    "import numpy as np"
   ],
   "outputs": [],
   "execution_count": 1
  },
  {
   "metadata": {
    "ExecuteTime": {
     "end_time": "2025-09-29T10:07:12.361798Z",
     "start_time": "2025-09-29T10:07:12.358081Z"
    }
   },
   "cell_type": "code",
   "source": [
    "# Parse the XML file\n",
    "tree = etree.parse('instances/NL4.xml')\n",
    "root = tree.getroot()\n",
    "\n",
    "# Get number of teams\n",
    "teams = root.xpath('.//Teams/team')\n",
    "num_teams = len(teams)\n",
    "\n",
    "# Initialize the distance matrix\n",
    "distances = np.zeros((num_teams, num_teams), dtype=int)\n",
    "\n",
    "# Fill the matrix with distances\n",
    "for dist_elem in root.xpath('.//Distances/distance'):\n",
    "    t1 = int(dist_elem.get('team1'))\n",
    "    t2 = int(dist_elem.get('team2'))\n",
    "    dist = int(dist_elem.get('dist'))\n",
    "    distances[t1, t2] = dist\n",
    "\n",
    "print(distances)\n"
   ],
   "id": "23e07fad647124c3",
   "outputs": [
    {
     "name": "stdout",
     "output_type": "stream",
     "text": [
      "[[  0 745 665 929]\n",
      " [745   0  80 337]\n",
      " [665  80   0 380]\n",
      " [929 337 380   0]]\n"
     ]
    }
   ],
   "execution_count": 2
  },
  {
   "metadata": {},
   "cell_type": "code",
   "outputs": [],
   "execution_count": null,
   "source": "",
   "id": "88e47197ff8e3932"
  }
 ],
 "metadata": {
  "kernelspec": {
   "display_name": "Python 3",
   "language": "python",
   "name": "python3"
  },
  "language_info": {
   "codemirror_mode": {
    "name": "ipython",
    "version": 2
   },
   "file_extension": ".py",
   "mimetype": "text/x-python",
   "name": "python",
   "nbconvert_exporter": "python",
   "pygments_lexer": "ipython2",
   "version": "2.7.6"
  }
 },
 "nbformat": 4,
 "nbformat_minor": 5
}
